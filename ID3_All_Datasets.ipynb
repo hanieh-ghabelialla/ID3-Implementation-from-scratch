{
  "nbformat": 4,
  "nbformat_minor": 0,
  "metadata": {
    "colab": {
      "provenance": [],
      "collapsed_sections": [
        "ra1Bb7cgnjhu",
        "r5pDcvo6lmIL"
      ]
    },
    "kernelspec": {
      "name": "python3",
      "display_name": "Python 3"
    },
    "language_info": {
      "name": "python"
    }
  },
  "cells": [
    {
      "cell_type": "code",
      "execution_count": null,
      "metadata": {
        "id": "O1xmfi77gGBp"
      },
      "outputs": [],
      "source": [
        "import pandas as pd\n",
        "import numpy as np\n",
        "import math\n",
        "import matplotlib.pyplot as plt"
      ]
    },
    {
      "cell_type": "markdown",
      "source": [
        "## Extra Functions"
      ],
      "metadata": {
        "id": "ra1Bb7cgnjhu"
      }
    },
    {
      "cell_type": "code",
      "source": [
        "def mean(numbers):\n",
        "  return sum(numbers)/len(numbers)\n",
        "\n",
        "\n",
        "def stdev(numbers):\n",
        "  return np.std(numbers)\n",
        "\n",
        "def discr(x, k):\n",
        "  w = (np.max(x) - np.min(x)) / k\n",
        "  bins = [np.min(x) + (i) * w for i in range(k)]\n",
        "  return np.digitize(x, bins=bins, right=False)"
      ],
      "metadata": {
        "id": "HpuEI1SMnudm"
      },
      "execution_count": null,
      "outputs": []
    },
    {
      "cell_type": "markdown",
      "source": [
        "## Reading Data"
      ],
      "metadata": {
        "id": "bc6Q6E4Iijdz"
      }
    },
    {
      "cell_type": "code",
      "source": [
        "%cd /content/drive/MyDrive/ML/data/Assignment\n",
        "!pwd"
      ],
      "metadata": {
        "colab": {
          "base_uri": "https://localhost:8080/"
        },
        "id": "Wlvzlu8Pif2f",
        "outputId": "69c4cd20-b782-437d-80a9-b978a92008e7"
      },
      "execution_count": null,
      "outputs": [
        {
          "output_type": "stream",
          "name": "stdout",
          "text": [
            "/content/drive/MyDrive/ML/data/Assignment\n",
            "/content/drive/MyDrive/ML/data/Assignment\n"
          ]
        }
      ]
    },
    {
      "cell_type": "code",
      "source": [
        "# Reading Mushroom dataset\n",
        "df_mushroom = pd.read_csv(\"mushroom.data\")\n",
        "df_mushroom.replace(\"?\", np.NaN).dropna()\n",
        "df_mushroom.reset_index()\n",
        "print(\"Reading Mushroom dataset (df_mushroom) ---> done \")"
      ],
      "metadata": {
        "colab": {
          "base_uri": "https://localhost:8080/"
        },
        "id": "DWigD4oajIDh",
        "outputId": "0252ba2f-3a24-4d6a-a2cb-599382d954a4"
      },
      "execution_count": null,
      "outputs": [
        {
          "output_type": "stream",
          "name": "stdout",
          "text": [
            "Reading Mushroom dataset (df_mushroom) ---> done \n"
          ]
        }
      ]
    },
    {
      "cell_type": "code",
      "source": [
        "# Reading Car dataset\n",
        "df_car = pd.read_csv(\"car.data\")\n",
        "df_car.replace(\"?\", np.NaN).dropna()\n",
        "df_car.reset_index()\n",
        "#df_car.info()\n",
        "print(\"Reading Car dataset (df_car) ---> done \")"
      ],
      "metadata": {
        "colab": {
          "base_uri": "https://localhost:8080/"
        },
        "id": "6mLkUQ25lSW6",
        "outputId": "193d2a1f-1510-46e1-d42d-82ec3780ca9e"
      },
      "execution_count": null,
      "outputs": [
        {
          "output_type": "stream",
          "name": "stdout",
          "text": [
            "Reading Car dataset (df_car) ---> done \n"
          ]
        }
      ]
    },
    {
      "cell_type": "code",
      "source": [
        "# Reading Breast Cancer Wisconsin dataset\n",
        "df_cancer = pd.read_csv(\"breast-cancer-wisconsin.data\")\n",
        "df_cancer.replace(\"?\", np.NaN).dropna()\n",
        "df_cancer.reset_index()\n",
        "df_cancer.drop(columns=[\"1000025\"], inplace=True)\n",
        "#df_cancer.info()\n",
        "#df_cancer['2.1'].unique()\n",
        "print(\"Reading Breast Cancer Wisconsin dataset (df_cancer) ---> done \")"
      ],
      "metadata": {
        "id": "sT5CjoihsGhf",
        "colab": {
          "base_uri": "https://localhost:8080/"
        },
        "outputId": "e6bdd622-97ef-4daa-88e5-16880701947c"
      },
      "execution_count": null,
      "outputs": [
        {
          "output_type": "stream",
          "name": "stdout",
          "text": [
            "Reading Breast Cancer Wisconsin dataset (df_cancer) ---> done \n"
          ]
        }
      ]
    },
    {
      "cell_type": "code",
      "source": [
        "# Reading Ecoli dataset\n",
        "names = [\"f_\" + str(i) for i in range(8)] + [\"target\"]\n",
        "df_ecoli = pd.read_csv(\"ecoli_last.data\", header=0, names=names, parse_dates=True,squeeze=True)\n",
        "df_ecoli.drop(columns=[\"f_0\"], inplace=True)\n",
        "df_ecoli['target'] = df_ecoli['target'].replace(['imS', 'imL', 'imU','im'], 'imSULomL')\n",
        "df_ecoli['target'] = df_ecoli['target'].replace(['om', 'omL'], 'omLL')\n",
        "#df_ecoli"
      ],
      "metadata": {
        "id": "SICkgGeo0Jj3"
      },
      "execution_count": null,
      "outputs": []
    },
    {
      "cell_type": "code",
      "source": [
        "df_ecoli['f_1'] = discr(df_ecoli['f_1'].values.astype(np.float64), 19)\n",
        "df_ecoli['f_2'] = discr(df_ecoli['f_2'].values.astype(np.float64), 19)\n",
        "df_ecoli['f_3'] = discr(df_ecoli['f_3'].values.astype(np.float64), 2)\n",
        "df_ecoli['f_4'] = discr(df_ecoli['f_4'].values.astype(np.float64), 2)\n",
        "df_ecoli['f_5'] = discr(df_ecoli['f_5'].values.astype(np.float64), 19)\n",
        "df_ecoli['f_6'] = discr(df_ecoli['f_6'].values.astype(np.float64), 19)\n",
        "df_ecoli['f_7'] = discr(df_ecoli['f_7'].values.astype(np.float64), 19)\n",
        "print(\"Reading Ecoli dataset (df_ecoli) ---> done \")"
      ],
      "metadata": {
        "colab": {
          "base_uri": "https://localhost:8080/"
        },
        "id": "FgcmMy9Uyvru",
        "outputId": "675bf110-b465-467d-fe61-acaad70d8815"
      },
      "execution_count": null,
      "outputs": [
        {
          "output_type": "stream",
          "name": "stdout",
          "text": [
            "Reading Ecoli dataset (df_ecoli) ---> done \n"
          ]
        }
      ]
    },
    {
      "cell_type": "code",
      "source": [
        "# Reading Ecoli dataset\n",
        "df_letter = pd.read_csv(\"letter-recognition-ostad.data\")\n",
        "df_shuffeled = df_letter.sample(frac=1).reset_index()\n",
        "df = df_shuffeled.drop(['index'], axis=1)\n",
        "df_letter = df[ (df['T'] =='A')|(df['T'] == 'B')|(df['T']=='C')|(df['T']=='D')|(df['T']=='E')|(df['T']=='F')|(df['T']=='G')|(df['T']=='H')|(df['T']=='I')|(df['T']=='J')|(df['T']=='K')|(df['T']=='L')|(df['T']=='M')|(df['T']=='N') ]\n",
        "#df_letter = df[ (df['T'] =='A')|(df['T'] == 'B')|(df['T']=='C')|(df['T']=='D')|(df['T']=='E')]\n",
        "df_letter = df_letter.reset_index()\n",
        "df_letter.drop(columns=[\"index\"], inplace=True)\n",
        "#df_letter.info()"
      ],
      "metadata": {
        "id": "prfXHUCjn89W"
      },
      "execution_count": null,
      "outputs": []
    },
    {
      "cell_type": "code",
      "source": [
        "i=0\n",
        "for columnName in df_letter:\n",
        "  i+=1\n",
        "  if i>1:\n",
        "    for j in range(0,16):\n",
        "      if ((len(df_letter[df_letter[columnName]==j])/df_letter.shape[0])*100) < 0.5:\n",
        "        #print(\"column name: \", columnName, \"   j is: \", j, \"len is:  \", (len(df_letter[df_letter[columnName]==j])/df_letter.shape[0])*100, \n",
        "            #\"   len itself is:  \", len(df_letter[df_letter[columnName]==j]))\n",
        "        index_names = df_letter[ df_letter[columnName] == j ].index\n",
        "        df_letter.drop(index_names, inplace = True)\n",
        "        df_letter.reset_index(drop=True, inplace=True)\n",
        "print(\"Reading Letter Recognition dataset (df_letter) ---> done \")"
      ],
      "metadata": {
        "colab": {
          "base_uri": "https://localhost:8080/"
        },
        "id": "Zd7MZ6FBppJH",
        "outputId": "a57811d8-f193-4e34-cf78-4140295401da"
      },
      "execution_count": null,
      "outputs": [
        {
          "output_type": "stream",
          "name": "stdout",
          "text": [
            "Reading Letter Recognition dataset (df_letter) ---> done \n"
          ]
        }
      ]
    },
    {
      "cell_type": "markdown",
      "source": [
        "## ID3"
      ],
      "metadata": {
        "id": "r5pDcvo6lmIL"
      }
    },
    {
      "cell_type": "code",
      "source": [
        "def entropy(p):\n",
        "  return (-1) * (p) * math.log2(p)\n",
        "  \n",
        "def d_entropy(data, label, classes): #Entropy of input data\n",
        "    num_d = data.shape[0] #size of the input data\n",
        "    entropy_d = 0\n",
        "    \n",
        "    for clas in classes: #for each class in the label\n",
        "        num_class = data[data[label] == clas].shape[0] #number of the class\n",
        "        if num_class!= 0:\n",
        "          entropy_d += entropy(num_class/num_d) #adding entropy of class\n",
        "    return entropy_d"
      ],
      "metadata": {
        "id": "p5ugJSwklojb"
      },
      "execution_count": null,
      "outputs": []
    },
    {
      "cell_type": "code",
      "source": [
        "def subfeature_entropy(feature_data, label, classes): #Entropy of a subfeature = Ex: Outlook -> Sunny \n",
        "    num_feature = feature_data.shape[0]\n",
        "    subfeature_entropy = 0\n",
        "    \n",
        "    for clas in classes:\n",
        "        num_feature_class = feature_data[feature_data[label] == clas].shape[0] #row count of class c \n",
        "        entropy_feature = 0\n",
        "        if num_feature_class != 0:\n",
        "          entropy_feature = entropy(num_feature_class/num_feature)\n",
        "        subfeature_entropy += entropy_feature\n",
        "    return subfeature_entropy"
      ],
      "metadata": {
        "id": "g5cNVjS7l3lb"
      },
      "execution_count": null,
      "outputs": []
    },
    {
      "cell_type": "code",
      "source": [
        "def gain(feature_name, data, label, classes):\n",
        "    subfeature_list = data[feature_name].unique() #unqiue values of the feature\n",
        "    num_d = data.shape[0]\n",
        "    feature_info = 0.0\n",
        "    \n",
        "    for subfeature in subfeature_list:\n",
        "        subfeature_data = data[data[feature_name] == subfeature] #filtering rows with that feature_value\n",
        "        num_subfeature = subfeature_data.shape[0]\n",
        "        feature_info += (num_subfeature/num_d) * subfeature_entropy(subfeature_data, label, classes) #calculating information of the feature value\n",
        "        \n",
        "    return d_entropy(data, label, classes) - feature_info #calculating information gain by subtracting"
      ],
      "metadata": {
        "id": "016PFTGNl6cT"
      },
      "execution_count": null,
      "outputs": []
    },
    {
      "cell_type": "code",
      "source": [
        "def find_best_feature(data, label, classes):\n",
        "    features = data.columns.drop(label) #finding the feature names in the dataset\n",
        "                                            #N.B. label is not a feature, so dropping it\n",
        "    max_gain = -1\n",
        "    best_feature = None\n",
        "    \n",
        "    for feature in features:  #for each feature in the dataset\n",
        "        feature_gain = gain(feature, data, label, classes)\n",
        "        if max_gain < feature_gain: #selecting feature name with highest information gain\n",
        "            max_gain = feature_gain\n",
        "            best_feature = feature\n",
        "    #print(\"best feature: \", best_feature)        \n",
        "    return best_feature"
      ],
      "metadata": {
        "id": "djdQ8QHol8pz"
      },
      "execution_count": null,
      "outputs": []
    },
    {
      "cell_type": "code",
      "source": [
        "def generate_sub_tree(feature_name, data, label, classes):\n",
        "    feature_dict = data[feature_name].value_counts(sort=False) #dictionary of the count of unqiue feature value\n",
        "    tree = {} #sub tree or node\n",
        "    \n",
        "    for subfeature, num_subfeature in feature_dict.iteritems():\n",
        "        subfeature_data = data[data[feature_name] == subfeature] #dataset with only feature_name = subfeature\n",
        "        \n",
        "        assigned_to_tree = False #flag for tracking feature_value is pure class or not\n",
        "        for clas in classes: #for each class\n",
        "            num_class = subfeature_data[subfeature_data[label] == clas].shape[0] #count of class c\n",
        "\n",
        "            if num_class == num_subfeature: #count of feature_value = count of class (pure class)\n",
        "                tree[subfeature] = clas #adding node to the tree\n",
        "                data = data[data[feature_name] != subfeature] #removing rows with feature_value\n",
        "                assigned_to_tree = True\n",
        "        if not assigned_to_tree: #not pure class\n",
        "            tree[subfeature] = \"?\" #should extend the node, so the branch is marked with ?\n",
        "            \n",
        "    return tree, data"
      ],
      "metadata": {
        "id": "epPIcrCWl-fU"
      },
      "execution_count": null,
      "outputs": []
    },
    {
      "cell_type": "code",
      "source": [
        "def make_tree(root, prev_feature_value, train_data, label, class_list):\n",
        "    if train_data.shape[0] != 0: #if dataset becomes empty after updating\n",
        "        max_info_feature = find_best_feature(train_data, label, class_list) #most informative feature\n",
        "        tree, train_data = generate_sub_tree(max_info_feature, train_data, label, class_list) #getting tree node and updated dataset\n",
        "        next_root = None\n",
        "        \n",
        "        if prev_feature_value != None: #add to intermediate node of the tree\n",
        "            root[prev_feature_value] = dict()\n",
        "            root[prev_feature_value][max_info_feature] = tree\n",
        "            next_root = root[prev_feature_value][max_info_feature]\n",
        "        else: #add to root of the tree\n",
        "            root[max_info_feature] = tree\n",
        "            next_root = root[max_info_feature]\n",
        "        \n",
        "        for node, branch in list(next_root.items()): #iterating the tree node\n",
        "            if branch == \"?\": #if it is expandable\n",
        "                feature_value_data = train_data[train_data[max_info_feature] == node] #using the updated dataset\n",
        "                make_tree(next_root, node, feature_value_data, label, class_list) #recursive call with updated dataset"
      ],
      "metadata": {
        "id": "Q6FvVzFMmAVL"
      },
      "execution_count": null,
      "outputs": []
    },
    {
      "cell_type": "code",
      "source": [
        "def id3(train_data_m, label):\n",
        "    train_data = train_data_m.copy() #getting a copy of the dataset\n",
        "    tree = {} #tree which will be updated\n",
        "    class_list = train_data[label].unique() #getting unqiue classes of the label\n",
        "    make_tree(tree, None, train_data_m, label, class_list) #start calling recursion\n",
        "    return tree"
      ],
      "metadata": {
        "id": "WxOjDoYLmCKL"
      },
      "execution_count": null,
      "outputs": []
    },
    {
      "cell_type": "code",
      "source": [
        "def predict(tree, instance):\n",
        "    if not isinstance(tree, dict): #if it is leaf node\n",
        "        return tree #return the value\n",
        "    else:\n",
        "        root_node = next(iter(tree)) #getting first key/feature name of the dictionary\n",
        "        feature_value = instance[root_node] #value of the feature\n",
        "        if feature_value in tree[root_node]: #checking the feature value in current tree node\n",
        "            return predict(tree[root_node][feature_value], instance) #goto next feature\n",
        "        else:\n",
        "            return None"
      ],
      "metadata": {
        "id": "Af8OPFGomDmj"
      },
      "execution_count": null,
      "outputs": []
    },
    {
      "cell_type": "markdown",
      "source": [
        "## KFold"
      ],
      "metadata": {
        "id": "Y17fht7CnAaW"
      }
    },
    {
      "cell_type": "code",
      "source": [
        "def evaluate(tree, test_data_m, label):\n",
        "    correct_preditct = 0\n",
        "    wrong_preditct = 0\n",
        "    for index, row in test_data_m.iterrows(): #for each row in the dataset\n",
        "        result = predict(tree, test_data_m.iloc[index]) #predict the row\n",
        "        if result == test_data_m[label].iloc[index]: #predicted value and expected value is same or not\n",
        "            correct_preditct += 1 #increase correct count\n",
        "        else:\n",
        "            wrong_preditct += 1 #increase incorrect count\n",
        "    accuracy = correct_preditct / (correct_preditct + wrong_preditct) #calculating accuracy\n",
        "    return accuracy"
      ],
      "metadata": {
        "id": "KAS_yhqgnDOF"
      },
      "execution_count": null,
      "outputs": []
    },
    {
      "cell_type": "code",
      "source": [
        "def kfold (data, k):#seperating dataset into k folds\n",
        "  range_rows = math.floor(data.shape[0]/k)\n",
        "  reminder_rows = data.shape[0]%k\n",
        "  fold_list = [pd.DataFrame() for x in range(k)]\n",
        "  for i in range(k):\n",
        "    y = 0\n",
        "    if (i+1)==k:\n",
        "     y = reminder_rows\n",
        "\n",
        "    fold_list[i] = data.loc[i*range_rows:(i+1)*range_rows-1+y]\n",
        "\n",
        "  return fold_list"
      ],
      "metadata": {
        "id": "LifEuq3qnFbV"
      },
      "execution_count": null,
      "outputs": []
    },
    {
      "cell_type": "code",
      "source": [
        "def applyKfold(data, kf, label):#applying k fold strategy\n",
        "  accuracy = []\n",
        "  train_folds = []\n",
        "  folds = kfold(data, kf)\n",
        "  for i in range(kf):\n",
        "    test_data = pd.concat([folds[i]], ignore_index=True)\n",
        "    train_folds.clear()\n",
        "    for j in range(kf):\n",
        "      if i!=j:\n",
        "        train_folds.append(j)\n",
        "\n",
        "    train_data = pd.concat([folds[train_folds[0]], folds[train_folds[1]], folds[train_folds[2]], folds[train_folds[3]]], ignore_index=True)\n",
        "    tree = {}\n",
        "    tree = id3(train_data, label)\n",
        "    accuracy.append(evaluate(tree, test_data, label))\n",
        "  return sum(accuracy)/len(accuracy)"
      ],
      "metadata": {
        "id": "CX5yrtDfnHRN"
      },
      "execution_count": null,
      "outputs": []
    },
    {
      "cell_type": "code",
      "source": [
        "def nkfold(data, iteration, n, label):#iterating iteration times of n fold\n",
        "  total_accuracy = []\n",
        "  for i in range(iteration):\n",
        "    df_shuffeled = data.sample(frac=1).reset_index()\n",
        "    df_shuffeled = df_shuffeled.drop(['index'], axis=1)\n",
        "    total_accuracy.append(applyKfold(df_shuffeled, n, label))\n",
        "    print(\"Accuracy of iteration  \", i,  \"  is --->> \", total_accuracy[i])\n",
        "  return total_accuracy"
      ],
      "metadata": {
        "id": "S182V5PYnJC0"
      },
      "execution_count": null,
      "outputs": []
    },
    {
      "cell_type": "markdown",
      "source": [
        "## Main_Mushroom"
      ],
      "metadata": {
        "id": "gM1NRu7ynOFu"
      }
    },
    {
      "cell_type": "code",
      "source": [
        "total_accuracy_mushroom = nkfold(df_mushroom, 10, 5, 'p')\n",
        "print(\"total accuracy of Mushroom dataset: \", total_accuracy_mushroom)\n",
        "mean = sum(total_accuracy_mushroom)/len(total_accuracy_mushroom)\n",
        "standard_deviation = stdev(total_accuracy_mushroom)\n",
        "print(\"Standard Deviation of Mushroom dataset : \" + str(standard_deviation))\n",
        "print(\"Mean Accuracy of 10 Times 5 Fold of Mushroom: \" + str(mean))"
      ],
      "metadata": {
        "colab": {
          "base_uri": "https://localhost:8080/"
        },
        "id": "Z3IognnHnTp-",
        "outputId": "24836988-a9d5-4faa-d508-104320996a4e"
      },
      "execution_count": null,
      "outputs": [
        {
          "output_type": "stream",
          "name": "stdout",
          "text": [
            "Accuracy of iteration   0   is --->>  1.0\n",
            "Accuracy of iteration   1   is --->>  1.0\n",
            "Accuracy of iteration   2   is --->>  1.0\n",
            "Accuracy of iteration   3   is --->>  1.0\n",
            "Accuracy of iteration   4   is --->>  1.0\n",
            "Accuracy of iteration   5   is --->>  1.0\n",
            "Accuracy of iteration   6   is --->>  1.0\n",
            "Accuracy of iteration   7   is --->>  1.0\n",
            "Accuracy of iteration   8   is --->>  1.0\n",
            "Accuracy of iteration   9   is --->>  1.0\n",
            "total accuracy of Mushroom dataset:  [1.0, 1.0, 1.0, 1.0, 1.0, 1.0, 1.0, 1.0, 1.0, 1.0]\n",
            "Standard Deviation of Mushroom dataset : 0.0\n",
            "Mean Accuracy of 10 Times 5 Fold of Mushroom: 1.0\n"
          ]
        }
      ]
    },
    {
      "cell_type": "code",
      "source": [
        "x = np.array([ 1,  2,  3,  4,  5,  6,  7, 8, 9, 10 ])\n",
        "y = np.array(total_accuracy_mushroom)\n",
        " \n",
        "# Plotting the Graph\n",
        "plt.plot(x, y)\n",
        "plt.title(\"ID3_Mushroom_10_Iteration_5_Fold\")\n",
        "plt.xlabel(\"X\")\n",
        "plt.ylabel(\"Y\")\n",
        "plt.ylim(0.7, 1.0)\n",
        "plt.show()"
      ],
      "metadata": {
        "id": "kCvUvpKPozsa",
        "colab": {
          "base_uri": "https://localhost:8080/",
          "height": 295
        },
        "outputId": "f4c7724f-0dc7-49a8-a5d9-9df865fcdf6b"
      },
      "execution_count": null,
      "outputs": [
        {
          "output_type": "display_data",
          "data": {
            "text/plain": [
              "<Figure size 432x288 with 1 Axes>"
            ],
            "image/png": "[encoded data removed]"
          },
          "metadata": {
            "needs_background": "light"
          }
        }
      ]
    },
    {
      "cell_type": "markdown",
      "source": [
        "## Main_Car"
      ],
      "metadata": {
        "id": "Dd0gRnqfpnHM"
      }
    },
    {
      "cell_type": "code",
      "source": [
        "total_accuracy_car = nkfold(df_car, 10, 5, 'unacc')\n",
        "print(\"total accuracy of Car dataset: \", total_accuracy_car)\n",
        "mean = sum(total_accuracy_car)/len(total_accuracy_car)\n",
        "standard_deviation = stdev(total_accuracy_car)\n",
        "print(\"Standard Deviation of Car dataset : \" + str(standard_deviation))\n",
        "print(\"Mean Accuracy of 10 Times 5 Fold of Car: \" + str(mean))"
      ],
      "metadata": {
        "colab": {
          "base_uri": "https://localhost:8080/"
        },
        "id": "zKUbhktRppsz",
        "outputId": "0de515e9-b652-4bc8-a992-69b408419e05"
      },
      "execution_count": null,
      "outputs": [
        {
          "output_type": "stream",
          "name": "stdout",
          "text": [
            "Accuracy of iteration   0   is --->>  0.892327611410433\n",
            "Accuracy of iteration   1   is --->>  0.8824558326024308\n",
            "Accuracy of iteration   2   is --->>  0.8934803491625946\n",
            "Accuracy of iteration   3   is --->>  0.8934569602806667\n",
            "Accuracy of iteration   4   is --->>  0.8835952052792049\n",
            "Accuracy of iteration   5   is --->>  0.8888159378523994\n",
            "Accuracy of iteration   6   is --->>  0.8957657770538361\n",
            "Accuracy of iteration   7   is --->>  0.8917512425343525\n",
            "Accuracy of iteration   8   is --->>  0.9009865096270309\n",
            "Accuracy of iteration   9   is --->>  0.8813097773879631\n",
            "total accuracy of Car dataset:  [0.892327611410433, 0.8824558326024308, 0.8934803491625946, 0.8934569602806667, 0.8835952052792049, 0.8888159378523994, 0.8957657770538361, 0.8917512425343525, 0.9009865096270309, 0.8813097773879631]\n",
            "Standard Deviation of Car dataset : 0.005998307889060202\n",
            "Mean Accuracy of 10 Times 5 Fold of Car: 0.8903945203190913\n"
          ]
        }
      ]
    },
    {
      "cell_type": "code",
      "source": [
        "x = np.array([ 1,  2,  3,  4,  5,  6,  7, 8, 9, 10 ])\n",
        "y = np.array(total_accuracy_car)\n",
        " \n",
        "# Plotting the Graph\n",
        "plt.plot(x, y)\n",
        "plt.title(\"ID3_Car_10_Iteration_5_Fold\")\n",
        "plt.xlabel(\"X\")\n",
        "plt.ylabel(\"Y\")\n",
        "plt.ylim(0.7, 1.0)\n",
        "plt.show()"
      ],
      "metadata": {
        "colab": {
          "base_uri": "https://localhost:8080/",
          "height": 295
        },
        "id": "HGz7HZZUpr4D",
        "outputId": "444cc70f-f5de-491b-d933-2ec55e0a2f77"
      },
      "execution_count": null,
      "outputs": [
        {
          "output_type": "display_data",
          "data": {
            "text/plain": [
              "<Figure size 432x288 with 1 Axes>"
            ],
            "image/png": "[encoded data removed]"
          },
          "metadata": {
            "needs_background": "light"
          }
        }
      ]
    },
    {
      "cell_type": "markdown",
      "source": [
        "## Main_Cancer"
      ],
      "metadata": {
        "id": "JhQCp2yQYSTy"
      }
    },
    {
      "cell_type": "code",
      "source": [
        "total_accuracy_cancer = nkfold(df_cancer, 10, 5, '2.1')\n",
        "print(\"Total accuracy of Breast Cancer: \", total_accuracy_cancer)\n",
        "mean = sum(total_accuracy_cancer)/len(total_accuracy_cancer)\n",
        "standard_deviation = stdev(total_accuracy_cancer)\n",
        "print(\"Standard Deviation of Breast Cancer dataset : \" + str(standard_deviation))\n",
        "print(\"Mean Accuracy of 10 Times 5 Fold of Breast Cancer: \" + str(mean))"
      ],
      "metadata": {
        "colab": {
          "base_uri": "https://localhost:8080/"
        },
        "id": "gILPoMiir-P4",
        "outputId": "1676ba6f-b8d3-4f1b-9cd1-095023d3ec85"
      },
      "execution_count": null,
      "outputs": [
        {
          "output_type": "stream",
          "name": "stdout",
          "text": [
            "Accuracy of iteration   0   is --->>  0.9069003951768163\n",
            "Accuracy of iteration   1   is --->>  0.9096565001519912\n",
            "Accuracy of iteration   2   is --->>  0.9183807883270848\n",
            "Accuracy of iteration   3   is --->>  0.9125645962103557\n",
            "Accuracy of iteration   4   is --->>  0.909656500151991\n",
            "Accuracy of iteration   5   is --->>  0.9096565001519912\n",
            "Accuracy of iteration   6   is --->>  0.9024014591143986\n",
            "Accuracy of iteration   7   is --->>  0.901205795926639\n",
            "Accuracy of iteration   8   is --->>  0.9012361941432768\n",
            "Accuracy of iteration   9   is --->>  0.9154726922687202\n",
            "Total accuracy of Breast Cancer:  [0.9069003951768163, 0.9096565001519912, 0.9183807883270848, 0.9125645962103557, 0.909656500151991, 0.9096565001519912, 0.9024014591143986, 0.901205795926639, 0.9012361941432768, 0.9154726922687202]\n",
            "Standard Deviation of Breast Cancer dataset : 0.005586114614783021\n",
            "Mean Accuracy of 10 Times 5 Fold of Breast Cancer: 0.9087131421623263\n"
          ]
        }
      ]
    },
    {
      "cell_type": "code",
      "source": [
        "x = np.array([ 1,  2,  3,  4,  5,  6,  7, 8, 9, 10 ])\n",
        "y = np.array(total_accuracy_cancer)\n",
        " \n",
        "# Plotting the Graph\n",
        "plt.plot(x, y)\n",
        "plt.title(\"ID3_Breast_Cancer_10_Iteration_5_Fold\")\n",
        "plt.xlabel(\"X\")\n",
        "plt.ylabel(\"Y\")\n",
        "plt.ylim(0.7, 1.0)\n",
        "plt.show()"
      ],
      "metadata": {
        "colab": {
          "base_uri": "https://localhost:8080/",
          "height": 295
        },
        "id": "SeHdxbxBsBIP",
        "outputId": "50b22161-1bfc-4cbb-b59f-adc339a71a76"
      },
      "execution_count": null,
      "outputs": [
        {
          "output_type": "display_data",
          "data": {
            "text/plain": [
              "<Figure size 432x288 with 1 Axes>"
            ],
            "image/png": "[encoded data removed]"
          },
          "metadata": {
            "needs_background": "light"
          }
        }
      ]
    },
    {
      "cell_type": "markdown",
      "source": [
        "## Main_Ecoli"
      ],
      "metadata": {
        "id": "ph35eRJrYXKE"
      }
    },
    {
      "cell_type": "code",
      "source": [
        "total_accuracy_ecoli = nkfold(df_ecoli, 10, 5, 'target')\n",
        "print(\"total accuracy of Ecoli dataset: \", total_accuracy_ecoli)\n",
        "mean = sum(total_accuracy_ecoli)/len(total_accuracy_ecoli)\n",
        "standard_deviation = stdev(total_accuracy_ecoli)\n",
        "print(\"Standard Deviation of Ecoli dataset : \" + str(standard_deviation))\n",
        "print(\"Mean Accuracy of 10 Times 5 Fold of Ecoli: \" + str(mean))"
      ],
      "metadata": {
        "colab": {
          "base_uri": "https://localhost:8080/"
        },
        "id": "KdHJU8yIyBgz",
        "outputId": "09b9245d-7aa5-4bd2-ca81-3180eefcf216"
      },
      "execution_count": null,
      "outputs": [
        {
          "output_type": "stream",
          "name": "stdout",
          "text": [
            "Accuracy of iteration   0   is --->>  0.7014925373134329\n",
            "Accuracy of iteration   1   is --->>  0.6537313432835822\n",
            "Accuracy of iteration   2   is --->>  0.7104477611940299\n",
            "Accuracy of iteration   3   is --->>  0.6835820895522389\n",
            "Accuracy of iteration   4   is --->>  0.6746268656716418\n",
            "Accuracy of iteration   5   is --->>  0.6835820895522388\n",
            "Accuracy of iteration   6   is --->>  0.6776119402985075\n",
            "Accuracy of iteration   7   is --->>  0.6686567164179105\n",
            "Accuracy of iteration   8   is --->>  0.6985074626865672\n",
            "Accuracy of iteration   9   is --->>  0.6865671641791045\n",
            "total accuracy of Ecoli dataset:  [0.7014925373134329, 0.6537313432835822, 0.7104477611940299, 0.6835820895522389, 0.6746268656716418, 0.6835820895522388, 0.6776119402985075, 0.6686567164179105, 0.6985074626865672, 0.6865671641791045]\n",
            "Standard Deviation of Ecoli dataset : 0.015820895522388047\n",
            "Mean Accuracy of 10 Times 5 Fold of Ecoli: 0.6838805970149253\n"
          ]
        }
      ]
    },
    {
      "cell_type": "code",
      "source": [
        "x = np.array([ 1,  2,  3,  4,  5,  6,  7, 8, 9, 10 ])\n",
        "y = np.array(total_accuracy_ecoli)\n",
        " \n",
        "# Plotting the Graph\n",
        "plt.plot(x, y)\n",
        "plt.title(\"ID3_Ecoli_10_Iteration_5_Fold\")\n",
        "plt.xlabel(\"X\")\n",
        "plt.ylabel(\"Y\")\n",
        "plt.ylim(0.4, 0.8)\n",
        "plt.show()"
      ],
      "metadata": {
        "id": "gDbhu_-fYTDo",
        "colab": {
          "base_uri": "https://localhost:8080/",
          "height": 295
        },
        "outputId": "76017db3-9a35-4a41-b3c8-384037ceeab8"
      },
      "execution_count": null,
      "outputs": [
        {
          "output_type": "display_data",
          "data": {
            "text/plain": [
              "<Figure size 432x288 with 1 Axes>"
            ],
            "image/png": "[encoded data removed]"
          },
          "metadata": {
            "needs_background": "light"
          }
        }
      ]
    },
    {
      "cell_type": "markdown",
      "source": [
        "## Main Letter Recognition"
      ],
      "metadata": {
        "id": "vQg0azA5tXBp"
      }
    },
    {
      "cell_type": "code",
      "source": [
        "total_accuracy_letter = nkfold(df_letter, 10, 5, 'T')\n",
        "print(\"total accuracy of Letter Recognition: \", total_accuracy_letter)\n",
        "mean = sum(total_accuracy_letter)/len(total_accuracy_letter)\n",
        "standard_deviation = stdev(total_accuracy_letter)\n",
        "print(\"Standard Deviation of Letter Recognition : \" + str(standard_deviation))\n",
        "print(\"Mean Accuracy of 5 Times 5 Fold of Letter Recognition: \" + str(mean))"
      ],
      "metadata": {
        "colab": {
          "base_uri": "https://localhost:8080/"
        },
        "id": "MDr9vyeotbfz",
        "outputId": "53d49c88-0c74-4817-e2f4-e0af966b92e3"
      },
      "execution_count": null,
      "outputs": [
        {
          "output_type": "stream",
          "name": "stdout",
          "text": [
            "Accuracy of iteration   0   is --->>  0.7848734236412519\n",
            "Accuracy of iteration   1   is --->>  0.7827774162542311\n",
            "Accuracy of iteration   2   is --->>  0.7869684360093372\n",
            "Accuracy of iteration   3   is --->>  0.781576328897539\n",
            "Accuracy of iteration   4   is --->>  0.7911605502852719\n",
            "Accuracy of iteration   5   is --->>  0.7821774198362995\n",
            "Accuracy of iteration   6   is --->>  0.7865685378992763\n",
            "Accuracy of iteration   7   is --->>  0.7855721259375567\n",
            "Accuracy of iteration   8   is --->>  0.783076220440475\n",
            "Accuracy of iteration   9   is --->>  0.7867715217620591\n",
            "total accuracy of Letter Recognition:  [0.7848734236412519, 0.7827774162542311, 0.7869684360093372, 0.781576328897539, 0.7911605502852719, 0.7821774198362995, 0.7865685378992763, 0.7855721259375567, 0.783076220440475, 0.7867715217620591]\n",
            "Standard Deviation of Letter Recognition : 0.002754391340965056\n",
            "Mean Accuracy of 5 Times 5 Fold of Letter Recognition: 0.7851521980963299\n"
          ]
        }
      ]
    },
    {
      "cell_type": "code",
      "source": [
        "x = np.array([ 1,  2,  3,  4,  5,  6,  7, 8, 9, 10 ])\n",
        "y = np.array(total_accuracy_letter)\n",
        " \n",
        "# Plotting the Graph\n",
        "plt.plot(x, y)\n",
        "plt.title(\"ID3_Letter Recognition_10_Iteration_5_Fold\")\n",
        "plt.xlabel(\"X\")\n",
        "plt.ylabel(\"Y\")\n",
        "plt.ylim(0.6, 1.0)\n",
        "plt.show()"
      ],
      "metadata": {
        "id": "3WNMMdRjtecb",
        "colab": {
          "base_uri": "https://localhost:8080/",
          "height": 295
        },
        "outputId": "b46747a7-af48-4fae-ebc5-e81fde07682a"
      },
      "execution_count": null,
      "outputs": [
        {
          "output_type": "display_data",
          "data": {
            "text/plain": [
              "<Figure size 432x288 with 1 Axes>"
            ],
            "image/png": "[encoded data removed]"
          },
          "metadata": {
            "needs_background": "light"
          }
        }
      ]
    }
  ]
}